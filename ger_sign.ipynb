{
 "cells": [
  {
   "cell_type": "markdown",
   "metadata": {},
   "source": [
    "# INSTALL LIB"
   ]
  },
  {
   "cell_type": "code",
   "execution_count": 41,
   "metadata": {},
   "outputs": [],
   "source": [
    "import tensorflow as tf"
   ]
  },
  {
   "cell_type": "code",
   "execution_count": 4,
   "metadata": {},
   "outputs": [],
   "source": [
    "train_link=\"./\"+ \"train.p\"\n",
    "test_link=\"./\"+ \"test.p\"\n",
    "val_link=\"./\"+\"valid.p\""
   ]
  },
  {
   "cell_type": "code",
   "execution_count": 5,
   "metadata": {},
   "outputs": [],
   "source": [
    "import pickle"
   ]
  },
  {
   "cell_type": "code",
   "execution_count": 6,
   "metadata": {},
   "outputs": [],
   "source": [
    "with open(train_link,mode=\"rb\") as f:\n",
    "    train =pickle.load(f)"
   ]
  },
  {
   "cell_type": "code",
   "execution_count": 7,
   "metadata": {},
   "outputs": [],
   "source": [
    "with open(val_link,mode=\"rb\") as f:\n",
    "    val =pickle.load(f)"
   ]
  },
  {
   "cell_type": "code",
   "execution_count": 8,
   "metadata": {},
   "outputs": [],
   "source": [
    "with open(test_link,mode=\"rb\") as f:\n",
    "    test =pickle.load(f)"
   ]
  },
  {
   "cell_type": "code",
   "execution_count": 1,
   "metadata": {},
   "outputs": [
    {
     "name": "stdout",
     "output_type": "stream",
     "text": [
      "(4,)\n"
     ]
    }
   ],
   "source": [
    "import numpy as np\n",
    "\n",
    "arr = np.array([1, 2, 3, 4])\n",
    "\n",
    "print(arr.shape)"
   ]
  },
  {
   "cell_type": "code",
   "execution_count": 9,
   "metadata": {},
   "outputs": [
    {
     "data": {
      "text/plain": [
       "{'coords': array([[  6,   5,  21,  20],\n",
       "        [  6,   6,  22,  22],\n",
       "        [  5,   6,  22,  23],\n",
       "        ...,\n",
       "        [ 17,  15, 178, 155],\n",
       "        [ 17,  15, 183, 160],\n",
       "        [ 20,  18, 211, 184]], dtype=uint8),\n",
       " 'labels': array([41, 41, 41, ..., 25, 25, 25], dtype=uint8),\n",
       " 'features': array([[[[ 28,  25,  24],\n",
       "          [ 27,  24,  23],\n",
       "          [ 27,  24,  22],\n",
       "          ...,\n",
       "          [ 32,  28,  24],\n",
       "          [ 31,  27,  25],\n",
       "          [ 31,  27,  26]],\n",
       " \n",
       "         [[ 29,  26,  25],\n",
       "          [ 27,  25,  23],\n",
       "          [ 27,  25,  23],\n",
       "          ...,\n",
       "          [ 32,  28,  24],\n",
       "          [ 31,  27,  24],\n",
       "          [ 30,  27,  25]],\n",
       " \n",
       "         [[ 28,  26,  26],\n",
       "          [ 27,  25,  23],\n",
       "          [ 26,  25,  23],\n",
       "          ...,\n",
       "          [ 32,  28,  24],\n",
       "          [ 31,  27,  24],\n",
       "          [ 30,  27,  25]],\n",
       " \n",
       "         ...,\n",
       " \n",
       "         [[ 27,  24,  23],\n",
       "          [ 28,  25,  24],\n",
       "          [ 30,  25,  24],\n",
       "          ...,\n",
       "          [ 27,  24,  23],\n",
       "          [ 28,  24,  22],\n",
       "          [ 29,  25,  22]],\n",
       " \n",
       "         [[ 28,  23,  23],\n",
       "          [ 29,  24,  24],\n",
       "          [ 31,  25,  24],\n",
       "          ...,\n",
       "          [ 27,  24,  23],\n",
       "          [ 28,  24,  22],\n",
       "          [ 28,  24,  21]],\n",
       " \n",
       "         [[ 29,  23,  23],\n",
       "          [ 30,  24,  24],\n",
       "          [ 32,  24,  23],\n",
       "          ...,\n",
       "          [ 27,  24,  22],\n",
       "          [ 27,  23,  21],\n",
       "          [ 26,  22,  20]]],\n",
       " \n",
       " \n",
       "        [[[ 28,  24,  24],\n",
       "          [ 26,  23,  23],\n",
       "          [ 27,  24,  24],\n",
       "          ...,\n",
       "          [ 31,  28,  26],\n",
       "          [ 31,  28,  27],\n",
       "          [ 32,  28,  27]],\n",
       " \n",
       "         [[ 27,  24,  24],\n",
       "          [ 27,  24,  24],\n",
       "          [ 28,  25,  24],\n",
       "          ...,\n",
       "          [ 31,  27,  25],\n",
       "          [ 31,  27,  26],\n",
       "          [ 33,  29,  27]],\n",
       " \n",
       "         [[ 26,  24,  24],\n",
       "          [ 26,  24,  24],\n",
       "          [ 27,  24,  23],\n",
       "          ...,\n",
       "          [ 31,  26,  25],\n",
       "          [ 31,  27,  26],\n",
       "          [ 33,  29,  27]],\n",
       " \n",
       "         ...,\n",
       " \n",
       "         [[ 28,  25,  23],\n",
       "          [ 30,  27,  24],\n",
       "          [ 30,  27,  24],\n",
       "          ...,\n",
       "          [ 27,  24,  22],\n",
       "          [ 27,  24,  22],\n",
       "          [ 28,  24,  22]],\n",
       " \n",
       "         [[ 27,  24,  22],\n",
       "          [ 29,  26,  23],\n",
       "          [ 31,  26,  24],\n",
       "          ...,\n",
       "          [ 26,  23,  21],\n",
       "          [ 27,  24,  22],\n",
       "          [ 28,  25,  23]],\n",
       " \n",
       "         [[ 28,  24,  23],\n",
       "          [ 28,  24,  22],\n",
       "          [ 29,  24,  22],\n",
       "          ...,\n",
       "          [ 27,  23,  22],\n",
       "          [ 27,  24,  23],\n",
       "          [ 29,  26,  25]]],\n",
       " \n",
       " \n",
       "        [[[ 29,  25,  25],\n",
       "          [ 29,  26,  26],\n",
       "          [ 30,  27,  27],\n",
       "          ...,\n",
       "          [ 31,  27,  24],\n",
       "          [ 31,  28,  25],\n",
       "          [ 32,  29,  27]],\n",
       " \n",
       "         [[ 27,  24,  24],\n",
       "          [ 27,  25,  25],\n",
       "          [ 28,  26,  26],\n",
       "          ...,\n",
       "          [ 31,  27,  23],\n",
       "          [ 32,  28,  25],\n",
       "          [ 33,  30,  27]],\n",
       " \n",
       "         [[ 27,  24,  24],\n",
       "          [ 28,  26,  26],\n",
       "          [ 29,  27,  27],\n",
       "          ...,\n",
       "          [ 32,  28,  24],\n",
       "          [ 32,  28,  24],\n",
       "          [ 33,  29,  26]],\n",
       " \n",
       "         ...,\n",
       " \n",
       "         [[ 28,  26,  22],\n",
       "          [ 29,  26,  21],\n",
       "          [ 31,  26,  22],\n",
       "          ...,\n",
       "          [ 29,  24,  21],\n",
       "          [ 28,  23,  20],\n",
       "          [ 28,  23,  22]],\n",
       " \n",
       "         [[ 27,  26,  23],\n",
       "          [ 28,  25,  21],\n",
       "          [ 30,  25,  22],\n",
       "          ...,\n",
       "          [ 28,  23,  21],\n",
       "          [ 27,  22,  20],\n",
       "          [ 28,  24,  22]],\n",
       " \n",
       "         [[ 29,  26,  23],\n",
       "          [ 28,  24,  21],\n",
       "          [ 29,  24,  21],\n",
       "          ...,\n",
       "          [ 29,  25,  23],\n",
       "          [ 28,  24,  22],\n",
       "          [ 30,  26,  24]]],\n",
       " \n",
       " \n",
       "        ...,\n",
       " \n",
       " \n",
       "        [[[ 51,  67,  86],\n",
       "          [ 55,  59,  71],\n",
       "          [ 75,  81,  92],\n",
       "          ...,\n",
       "          [250, 248, 243],\n",
       "          [207, 212, 233],\n",
       "          [121, 116, 140]],\n",
       " \n",
       "         [[ 35,  42,  49],\n",
       "          [ 48,  47,  51],\n",
       "          [ 91,  96, 113],\n",
       "          ...,\n",
       "          [220, 224, 226],\n",
       "          [169, 177, 187],\n",
       "          [ 84,  87, 100]],\n",
       " \n",
       "         [[ 27,  26,  29],\n",
       "          [ 41,  38,  39],\n",
       "          [ 55,  64,  78],\n",
       "          ...,\n",
       "          [122, 143, 160],\n",
       "          [ 97, 104, 129],\n",
       "          [ 59,  59,  56]],\n",
       " \n",
       "         ...,\n",
       " \n",
       "         [[ 24,  23,  27],\n",
       "          [ 21,  20,  27],\n",
       "          [ 20,  19,  22],\n",
       "          ...,\n",
       "          [ 76,  79,  83],\n",
       "          [ 54,  64,  77],\n",
       "          [ 45,  51,  65]],\n",
       " \n",
       "         [[ 31,  31,  33],\n",
       "          [ 22,  23,  29],\n",
       "          [ 20,  18,  21],\n",
       "          ...,\n",
       "          [ 66,  67,  84],\n",
       "          [ 56,  65,  74],\n",
       "          [ 45,  55,  73]],\n",
       " \n",
       "         [[ 28,  28,  30],\n",
       "          [ 22,  21,  25],\n",
       "          [ 19,  18,  19],\n",
       "          ...,\n",
       "          [ 67,  63,  76],\n",
       "          [ 39,  45,  55],\n",
       "          [ 32,  37,  47]]],\n",
       " \n",
       " \n",
       "        [[[ 82,  78,  96],\n",
       "          [120, 126, 148],\n",
       "          [112, 125, 146],\n",
       "          ...,\n",
       "          [185, 182, 177],\n",
       "          [204, 210, 215],\n",
       "          [132, 114, 121]],\n",
       " \n",
       "         [[ 74,  77,  93],\n",
       "          [171, 174, 185],\n",
       "          [137, 164, 184],\n",
       "          ...,\n",
       "          [180, 181, 187],\n",
       "          [198, 200, 213],\n",
       "          [ 79,  85,  85]],\n",
       " \n",
       "         [[ 54,  50,  56],\n",
       "          [100, 106, 118],\n",
       "          [117, 132, 158],\n",
       "          ...,\n",
       "          [157, 153, 160],\n",
       "          [176, 183, 199],\n",
       "          [ 88,  80,  82]],\n",
       " \n",
       "         ...,\n",
       " \n",
       "         [[ 22,  21,  22],\n",
       "          [ 20,  19,  19],\n",
       "          [ 18,  16,  19],\n",
       "          ...,\n",
       "          [ 50,  50,  60],\n",
       "          [ 37,  43,  52],\n",
       "          [ 30,  41,  59]],\n",
       " \n",
       "         [[ 18,  16,  18],\n",
       "          [ 19,  17,  18],\n",
       "          [ 19,  18,  21],\n",
       "          ...,\n",
       "          [ 36,  44,  60],\n",
       "          [ 33,  36,  48],\n",
       "          [ 36,  43,  61]],\n",
       " \n",
       "         [[ 18,  17,  20],\n",
       "          [ 21,  20,  23],\n",
       "          [ 24,  22,  25],\n",
       "          ...,\n",
       "          [ 32,  34,  41],\n",
       "          [ 45,  42,  48],\n",
       "          [ 41,  43,  52]]],\n",
       " \n",
       " \n",
       "        [[[ 69,  79,  96],\n",
       "          [ 24,  26,  28],\n",
       "          [ 40,  42,  45],\n",
       "          ...,\n",
       "          [225, 234, 237],\n",
       "          [151, 161, 166],\n",
       "          [164, 162, 169]],\n",
       " \n",
       "         [[ 99, 110, 125],\n",
       "          [ 36,  41,  47],\n",
       "          [ 63,  56,  62],\n",
       "          ...,\n",
       "          [197, 216, 224],\n",
       "          [154, 163, 169],\n",
       "          [164, 163, 159]],\n",
       " \n",
       "         [[104, 107, 113],\n",
       "          [ 34,  37,  40],\n",
       "          [ 72,  70,  77],\n",
       "          ...,\n",
       "          [223, 237, 235],\n",
       "          [181, 192, 198],\n",
       "          [166, 167, 159]],\n",
       " \n",
       "         ...,\n",
       " \n",
       "         [[ 21,  20,  23],\n",
       "          [ 23,  24,  30],\n",
       "          [ 19,  20,  24],\n",
       "          ...,\n",
       "          [ 45,  47,  54],\n",
       "          [ 58,  62,  70],\n",
       "          [ 58,  70,  82]],\n",
       " \n",
       "         [[ 18,  17,  21],\n",
       "          [ 19,  19,  24],\n",
       "          [ 18,  18,  23],\n",
       "          ...,\n",
       "          [ 36,  36,  40],\n",
       "          [ 58,  59,  70],\n",
       "          [ 61,  69,  81]],\n",
       " \n",
       "         [[ 17,  16,  19],\n",
       "          [ 16,  15,  18],\n",
       "          [ 16,  15,  18],\n",
       "          ...,\n",
       "          [ 40,  40,  44],\n",
       "          [ 57,  62,  73],\n",
       "          [ 57,  68,  80]]]], dtype=uint8),\n",
       " 'sizes': array([[ 26,  25],\n",
       "        [ 27,  27],\n",
       "        [ 27,  28],\n",
       "        ...,\n",
       "        [194, 169],\n",
       "        [201, 175],\n",
       "        [230, 201]], dtype=uint8)}"
      ]
     },
     "execution_count": 9,
     "metadata": {},
     "output_type": "execute_result"
    }
   ],
   "source": [
    "train"
   ]
  },
  {
   "cell_type": "code",
   "execution_count": 10,
   "metadata": {},
   "outputs": [],
   "source": [
    "trainX,trainY=train['features'],train['labels']\n",
    "valX,valY=val['features'],val['labels']\n",
    "testX,testY=test['features'],test['labels']"
   ]
  },
  {
   "cell_type": "code",
   "execution_count": 11,
   "metadata": {},
   "outputs": [
    {
     "data": {
      "text/plain": [
       "(34799, 32, 32, 3)"
      ]
     },
     "execution_count": 11,
     "metadata": {},
     "output_type": "execute_result"
    }
   ],
   "source": [
    "trainX.shape"
   ]
  },
  {
   "cell_type": "code",
   "execution_count": 12,
   "metadata": {},
   "outputs": [],
   "source": [
    "import matplotlib.pyplot as plt"
   ]
  },
  {
   "cell_type": "code",
   "execution_count": 13,
   "metadata": {},
   "outputs": [
    {
     "data": {
      "text/plain": [
       "<matplotlib.image.AxesImage at 0x1f02932af90>"
      ]
     },
     "execution_count": 13,
     "metadata": {},
     "output_type": "execute_result"
    },
    {
     "data": {
      "image/png": "[encoded data removed]",
      "text/plain": [
       "<Figure size 640x480 with 1 Axes>"
      ]
     },
     "metadata": {},
     "output_type": "display_data"
    }
   ],
   "source": [
    "plt.imshow(trainX[16])"
   ]
  },
  {
   "cell_type": "code",
   "execution_count": 14,
   "metadata": {},
   "outputs": [],
   "source": [
    "classNames = {0: 'Speed limit (20km/h)',\n",
    " 1: 'Speed limit (30km/h)',\n",
    " 2: 'Speed limit (50km/h)',\n",
    " 3: 'Speed limit (60km/h)',\n",
    " 4: 'Speed limit (70km/h)',\n",
    " 5: 'Speed limit (80km/h)',\n",
    " 6: 'End of speed limit (80km/h)',\n",
    " 7: 'Speed limit (100km/h)',\n",
    " 8: 'Speed limit (120km/h)',\n",
    " 9: 'No passing',\n",
    " 10: 'No passing for vehicles over 3.5 metric tons',\n",
    " 11: 'Right-of-way at the next intersection',\n",
    " 12: 'Priority road',\n",
    " 13: 'Yield',\n",
    " 14: 'Stop',\n",
    " 15: 'No vehicles',\n",
    " 16: 'Vehicles over 3.5 metric tons prohibited',\n",
    " 17: 'No entry',\n",
    " 18: 'General caution',\n",
    " 19: 'Dangerous curve to the left',\n",
    " 20: 'Dangerous curve to the right',\n",
    " 21: 'Double curve',\n",
    " 22: 'Bumpy road',\n",
    " 23: 'Slippery road',\n",
    " 24: 'Road narrows on the right',\n",
    " 25: 'Road work',\n",
    " 26: 'Traffic signals',\n",
    " 27: 'Pedestrians',\n",
    " 28: 'Children crossing',\n",
    " 29: 'Bicycles crossing',\n",
    " 30: 'Beware of ice/snow',\n",
    " 31: 'Wild animals crossing',\n",
    " 32: 'End of all speed and passing limits',\n",
    " 33: 'Turn right ahead',\n",
    " 34: 'Turn left ahead',\n",
    " 35: 'Ahead only',\n",
    " 36: 'Go straight or right',\n",
    " 37: 'Go straight or left',\n",
    " 38: 'Keep right',\n",
    " 39: 'Keep left',\n",
    " 40: 'Roundabout mandatory',\n",
    " 41: 'End of no passing',\n",
    " 42: 'End of no passing by vehicles over 3.5 metric tons'}\n",
    "\n"
   ]
  },
  {
   "cell_type": "code",
   "execution_count": 15,
   "metadata": {},
   "outputs": [],
   "source": [
    "trainX=trainX.astype(\"float\")/255.0\n",
    "testX=testX.astype(\"float\")/255.0\n",
    "valX=valX.astype(\"float\")/255.0"
   ]
  },
  {
   "cell_type": "code",
   "execution_count": 16,
   "metadata": {},
   "outputs": [],
   "source": [
    "from sklearn.preprocessing import LabelBinarizer"
   ]
  },
  {
   "cell_type": "code",
   "execution_count": 17,
   "metadata": {},
   "outputs": [],
   "source": [
    "lb =LabelBinarizer()"
   ]
  },
  {
   "cell_type": "code",
   "execution_count": null,
   "metadata": {},
   "outputs": [],
   "source": [
    "trainY=lb.fit_transform(trainY)\n",
    "valY=lb.fit_transform(valY)\n",
    "testY=lb.fit_transform(testY)"
   ]
  },
  {
   "cell_type": "markdown",
   "metadata": {},
   "source": [
    "# BUILD NEURONS NETWORK"
   ]
  },
  {
   "cell_type": "code",
   "execution_count": null,
   "metadata": {},
   "outputs": [],
   "source": []
  },
  {
   "cell_type": "code",
   "execution_count": 1,
   "metadata": {},
   "outputs": [],
   "source": [
    "from tensorflow.keras.models import Sequential\n",
    "from tensorflow.keras.layers import BatchNormalization, AveragePooling2D, MaxPool2D, Conv2D, Activation, Dropout, Flatten, Input, Dense, concatenate\n",
    "from tensorflow.keras.preprocessing.image import ImageDataGenerator\n",
    "from tensorflow.keras.optimizers import SGD\n"
   ]
  },
  {
   "cell_type": "code",
   "execution_count": 20,
   "metadata": {},
   "outputs": [],
   "source": [
    "model=Sequential()"
   ]
  },
  {
   "cell_type": "code",
   "execution_count": 21,
   "metadata": {},
   "outputs": [],
   "source": [
    "w=32\n",
    "h=32\n",
    "classes=43\n",
    "shape=[w,h,3]"
   ]
  },
  {
   "cell_type": "code",
   "execution_count": 22,
   "metadata": {},
   "outputs": [
    {
     "name": "stderr",
     "output_type": "stream",
     "text": [
      "e:\\machine_learning\\.venv\\Lib\\site-packages\\keras\\src\\layers\\convolutional\\base_conv.py:107: UserWarning: Do not pass an `input_shape`/`input_dim` argument to a layer. When using Sequential models, prefer using an `Input(shape)` object as the first layer in the model instead.\n",
      "  super().__init__(activity_regularizer=activity_regularizer, **kwargs)\n"
     ]
    }
   ],
   "source": [
    "model.add(Conv2D(32,(3,3),padding=\"same\",input_shape=shape))"
   ]
  },
  {
   "cell_type": "code",
   "execution_count": 23,
   "metadata": {},
   "outputs": [],
   "source": [
    "model.add(Activation(\"relu\"))"
   ]
  },
  {
   "cell_type": "code",
   "execution_count": 24,
   "metadata": {},
   "outputs": [],
   "source": [
    "model.add(BatchNormalization())"
   ]
  },
  {
   "cell_type": "code",
   "execution_count": 25,
   "metadata": {},
   "outputs": [],
   "source": [
    "model.add(Conv2D(32,(3,3),padding=\"same\"))\n",
    "model.add(Activation(\"relu\"))\n",
    "model.add(BatchNormalization())"
   ]
  },
  {
   "cell_type": "code",
   "execution_count": 26,
   "metadata": {},
   "outputs": [],
   "source": [
    "model.add(MaxPool2D(pool_size=(2,2)))"
   ]
  },
  {
   "cell_type": "code",
   "execution_count": 27,
   "metadata": {},
   "outputs": [],
   "source": [
    "model.add(Conv2D(64,(3,3),padding=\"same\"))\n",
    "model.add(Activation(\"relu\"))\n",
    "model.add(BatchNormalization())\n",
    "model.add(Conv2D(64,(3,3),padding=\"same\"))\n",
    "model.add(Activation(\"relu\"))\n",
    "model.add(BatchNormalization())"
   ]
  },
  {
   "cell_type": "code",
   "execution_count": 28,
   "metadata": {},
   "outputs": [],
   "source": [
    "model.add(MaxPool2D(pool_size=(2,2)))"
   ]
  },
  {
   "cell_type": "code",
   "execution_count": 29,
   "metadata": {},
   "outputs": [],
   "source": [
    "model.add(Flatten())"
   ]
  },
  {
   "cell_type": "code",
   "execution_count": 30,
   "metadata": {},
   "outputs": [],
   "source": [
    "model.add(Dense(512))"
   ]
  },
  {
   "cell_type": "code",
   "execution_count": 31,
   "metadata": {},
   "outputs": [],
   "source": [
    "model.add(Activation(\"relu\"))\n",
    "model.add(BatchNormalization())"
   ]
  },
  {
   "cell_type": "code",
   "execution_count": 32,
   "metadata": {},
   "outputs": [],
   "source": [
    "model.add(Dense(43))"
   ]
  },
  {
   "cell_type": "code",
   "execution_count": 33,
   "metadata": {},
   "outputs": [],
   "source": [
    "model.add(Activation(\"softmax\"))"
   ]
  },
  {
   "cell_type": "code",
   "execution_count": 34,
   "metadata": {},
   "outputs": [
    {
     "data": {
      "text/html": [
       "<pre style=\"white-space:pre;overflow-x:auto;line-height:normal;font-family:Menlo,'DejaVu Sans Mono',consolas,'Courier New',monospace\"><span style=\"font-weight: bold\">Model: \"sequential\"</span>\n",
       "</pre>\n"
      ],
      "text/plain": [
       "\u001b[1mModel: \"sequential\"\u001b[0m\n"
      ]
     },
     "metadata": {},
     "output_type": "display_data"
    },
    {
     "data": {
      "text/html": [
       "<pre style=\"white-space:pre;overflow-x:auto;line-height:normal;font-family:Menlo,'DejaVu Sans Mono',consolas,'Courier New',monospace\">┏━━━━━━━━━━━━━━━━━━━━━━━━━━━━━━━━━┳━━━━━━━━━━━━━━━━━━━━━━━━┳━━━━━━━━━━━━━━━┓\n",
       "┃<span style=\"font-weight: bold\"> Layer (type)                    </span>┃<span style=\"font-weight: bold\"> Output Shape           </span>┃<span style=\"font-weight: bold\">       Param # </span>┃\n",
       "┡━━━━━━━━━━━━━━━━━━━━━━━━━━━━━━━━━╇━━━━━━━━━━━━━━━━━━━━━━━━╇━━━━━━━━━━━━━━━┩\n",
       "│ conv2d (<span style=\"color: #0087ff; text-decoration-color: #0087ff\">Conv2D</span>)                 │ (<span style=\"color: #00d7ff; text-decoration-color: #00d7ff\">None</span>, <span style=\"color: #00af00; text-decoration-color: #00af00\">32</span>, <span style=\"color: #00af00; text-decoration-color: #00af00\">32</span>, <span style=\"color: #00af00; text-decoration-color: #00af00\">32</span>)     │           <span style=\"color: #00af00; text-decoration-color: #00af00\">896</span> │\n",
       "├─────────────────────────────────┼────────────────────────┼───────────────┤\n",
       "│ activation (<span style=\"color: #0087ff; text-decoration-color: #0087ff\">Activation</span>)         │ (<span style=\"color: #00d7ff; text-decoration-color: #00d7ff\">None</span>, <span style=\"color: #00af00; text-decoration-color: #00af00\">32</span>, <span style=\"color: #00af00; text-decoration-color: #00af00\">32</span>, <span style=\"color: #00af00; text-decoration-color: #00af00\">32</span>)     │             <span style=\"color: #00af00; text-decoration-color: #00af00\">0</span> │\n",
       "├─────────────────────────────────┼────────────────────────┼───────────────┤\n",
       "│ batch_normalization             │ (<span style=\"color: #00d7ff; text-decoration-color: #00d7ff\">None</span>, <span style=\"color: #00af00; text-decoration-color: #00af00\">32</span>, <span style=\"color: #00af00; text-decoration-color: #00af00\">32</span>, <span style=\"color: #00af00; text-decoration-color: #00af00\">32</span>)     │           <span style=\"color: #00af00; text-decoration-color: #00af00\">128</span> │\n",
       "│ (<span style=\"color: #0087ff; text-decoration-color: #0087ff\">BatchNormalization</span>)            │                        │               │\n",
       "├─────────────────────────────────┼────────────────────────┼───────────────┤\n",
       "│ conv2d_1 (<span style=\"color: #0087ff; text-decoration-color: #0087ff\">Conv2D</span>)               │ (<span style=\"color: #00d7ff; text-decoration-color: #00d7ff\">None</span>, <span style=\"color: #00af00; text-decoration-color: #00af00\">32</span>, <span style=\"color: #00af00; text-decoration-color: #00af00\">32</span>, <span style=\"color: #00af00; text-decoration-color: #00af00\">32</span>)     │         <span style=\"color: #00af00; text-decoration-color: #00af00\">9,248</span> │\n",
       "├─────────────────────────────────┼────────────────────────┼───────────────┤\n",
       "│ activation_1 (<span style=\"color: #0087ff; text-decoration-color: #0087ff\">Activation</span>)       │ (<span style=\"color: #00d7ff; text-decoration-color: #00d7ff\">None</span>, <span style=\"color: #00af00; text-decoration-color: #00af00\">32</span>, <span style=\"color: #00af00; text-decoration-color: #00af00\">32</span>, <span style=\"color: #00af00; text-decoration-color: #00af00\">32</span>)     │             <span style=\"color: #00af00; text-decoration-color: #00af00\">0</span> │\n",
       "├─────────────────────────────────┼────────────────────────┼───────────────┤\n",
       "│ batch_normalization_1           │ (<span style=\"color: #00d7ff; text-decoration-color: #00d7ff\">None</span>, <span style=\"color: #00af00; text-decoration-color: #00af00\">32</span>, <span style=\"color: #00af00; text-decoration-color: #00af00\">32</span>, <span style=\"color: #00af00; text-decoration-color: #00af00\">32</span>)     │           <span style=\"color: #00af00; text-decoration-color: #00af00\">128</span> │\n",
       "│ (<span style=\"color: #0087ff; text-decoration-color: #0087ff\">BatchNormalization</span>)            │                        │               │\n",
       "├─────────────────────────────────┼────────────────────────┼───────────────┤\n",
       "│ max_pooling2d (<span style=\"color: #0087ff; text-decoration-color: #0087ff\">MaxPooling2D</span>)    │ (<span style=\"color: #00d7ff; text-decoration-color: #00d7ff\">None</span>, <span style=\"color: #00af00; text-decoration-color: #00af00\">16</span>, <span style=\"color: #00af00; text-decoration-color: #00af00\">16</span>, <span style=\"color: #00af00; text-decoration-color: #00af00\">32</span>)     │             <span style=\"color: #00af00; text-decoration-color: #00af00\">0</span> │\n",
       "├─────────────────────────────────┼────────────────────────┼───────────────┤\n",
       "│ conv2d_2 (<span style=\"color: #0087ff; text-decoration-color: #0087ff\">Conv2D</span>)               │ (<span style=\"color: #00d7ff; text-decoration-color: #00d7ff\">None</span>, <span style=\"color: #00af00; text-decoration-color: #00af00\">16</span>, <span style=\"color: #00af00; text-decoration-color: #00af00\">16</span>, <span style=\"color: #00af00; text-decoration-color: #00af00\">64</span>)     │        <span style=\"color: #00af00; text-decoration-color: #00af00\">18,496</span> │\n",
       "├─────────────────────────────────┼────────────────────────┼───────────────┤\n",
       "│ activation_2 (<span style=\"color: #0087ff; text-decoration-color: #0087ff\">Activation</span>)       │ (<span style=\"color: #00d7ff; text-decoration-color: #00d7ff\">None</span>, <span style=\"color: #00af00; text-decoration-color: #00af00\">16</span>, <span style=\"color: #00af00; text-decoration-color: #00af00\">16</span>, <span style=\"color: #00af00; text-decoration-color: #00af00\">64</span>)     │             <span style=\"color: #00af00; text-decoration-color: #00af00\">0</span> │\n",
       "├─────────────────────────────────┼────────────────────────┼───────────────┤\n",
       "│ batch_normalization_2           │ (<span style=\"color: #00d7ff; text-decoration-color: #00d7ff\">None</span>, <span style=\"color: #00af00; text-decoration-color: #00af00\">16</span>, <span style=\"color: #00af00; text-decoration-color: #00af00\">16</span>, <span style=\"color: #00af00; text-decoration-color: #00af00\">64</span>)     │           <span style=\"color: #00af00; text-decoration-color: #00af00\">256</span> │\n",
       "│ (<span style=\"color: #0087ff; text-decoration-color: #0087ff\">BatchNormalization</span>)            │                        │               │\n",
       "├─────────────────────────────────┼────────────────────────┼───────────────┤\n",
       "│ conv2d_3 (<span style=\"color: #0087ff; text-decoration-color: #0087ff\">Conv2D</span>)               │ (<span style=\"color: #00d7ff; text-decoration-color: #00d7ff\">None</span>, <span style=\"color: #00af00; text-decoration-color: #00af00\">16</span>, <span style=\"color: #00af00; text-decoration-color: #00af00\">16</span>, <span style=\"color: #00af00; text-decoration-color: #00af00\">64</span>)     │        <span style=\"color: #00af00; text-decoration-color: #00af00\">36,928</span> │\n",
       "├─────────────────────────────────┼────────────────────────┼───────────────┤\n",
       "│ activation_3 (<span style=\"color: #0087ff; text-decoration-color: #0087ff\">Activation</span>)       │ (<span style=\"color: #00d7ff; text-decoration-color: #00d7ff\">None</span>, <span style=\"color: #00af00; text-decoration-color: #00af00\">16</span>, <span style=\"color: #00af00; text-decoration-color: #00af00\">16</span>, <span style=\"color: #00af00; text-decoration-color: #00af00\">64</span>)     │             <span style=\"color: #00af00; text-decoration-color: #00af00\">0</span> │\n",
       "├─────────────────────────────────┼────────────────────────┼───────────────┤\n",
       "│ batch_normalization_3           │ (<span style=\"color: #00d7ff; text-decoration-color: #00d7ff\">None</span>, <span style=\"color: #00af00; text-decoration-color: #00af00\">16</span>, <span style=\"color: #00af00; text-decoration-color: #00af00\">16</span>, <span style=\"color: #00af00; text-decoration-color: #00af00\">64</span>)     │           <span style=\"color: #00af00; text-decoration-color: #00af00\">256</span> │\n",
       "│ (<span style=\"color: #0087ff; text-decoration-color: #0087ff\">BatchNormalization</span>)            │                        │               │\n",
       "├─────────────────────────────────┼────────────────────────┼───────────────┤\n",
       "│ max_pooling2d_1 (<span style=\"color: #0087ff; text-decoration-color: #0087ff\">MaxPooling2D</span>)  │ (<span style=\"color: #00d7ff; text-decoration-color: #00d7ff\">None</span>, <span style=\"color: #00af00; text-decoration-color: #00af00\">8</span>, <span style=\"color: #00af00; text-decoration-color: #00af00\">8</span>, <span style=\"color: #00af00; text-decoration-color: #00af00\">64</span>)       │             <span style=\"color: #00af00; text-decoration-color: #00af00\">0</span> │\n",
       "├─────────────────────────────────┼────────────────────────┼───────────────┤\n",
       "│ flatten (<span style=\"color: #0087ff; text-decoration-color: #0087ff\">Flatten</span>)               │ (<span style=\"color: #00d7ff; text-decoration-color: #00d7ff\">None</span>, <span style=\"color: #00af00; text-decoration-color: #00af00\">4096</span>)           │             <span style=\"color: #00af00; text-decoration-color: #00af00\">0</span> │\n",
       "├─────────────────────────────────┼────────────────────────┼───────────────┤\n",
       "│ dense (<span style=\"color: #0087ff; text-decoration-color: #0087ff\">Dense</span>)                   │ (<span style=\"color: #00d7ff; text-decoration-color: #00d7ff\">None</span>, <span style=\"color: #00af00; text-decoration-color: #00af00\">512</span>)            │     <span style=\"color: #00af00; text-decoration-color: #00af00\">2,097,664</span> │\n",
       "├─────────────────────────────────┼────────────────────────┼───────────────┤\n",
       "│ activation_4 (<span style=\"color: #0087ff; text-decoration-color: #0087ff\">Activation</span>)       │ (<span style=\"color: #00d7ff; text-decoration-color: #00d7ff\">None</span>, <span style=\"color: #00af00; text-decoration-color: #00af00\">512</span>)            │             <span style=\"color: #00af00; text-decoration-color: #00af00\">0</span> │\n",
       "├─────────────────────────────────┼────────────────────────┼───────────────┤\n",
       "│ batch_normalization_4           │ (<span style=\"color: #00d7ff; text-decoration-color: #00d7ff\">None</span>, <span style=\"color: #00af00; text-decoration-color: #00af00\">512</span>)            │         <span style=\"color: #00af00; text-decoration-color: #00af00\">2,048</span> │\n",
       "│ (<span style=\"color: #0087ff; text-decoration-color: #0087ff\">BatchNormalization</span>)            │                        │               │\n",
       "├─────────────────────────────────┼────────────────────────┼───────────────┤\n",
       "│ dense_1 (<span style=\"color: #0087ff; text-decoration-color: #0087ff\">Dense</span>)                 │ (<span style=\"color: #00d7ff; text-decoration-color: #00d7ff\">None</span>, <span style=\"color: #00af00; text-decoration-color: #00af00\">43</span>)             │        <span style=\"color: #00af00; text-decoration-color: #00af00\">22,059</span> │\n",
       "├─────────────────────────────────┼────────────────────────┼───────────────┤\n",
       "│ activation_5 (<span style=\"color: #0087ff; text-decoration-color: #0087ff\">Activation</span>)       │ (<span style=\"color: #00d7ff; text-decoration-color: #00d7ff\">None</span>, <span style=\"color: #00af00; text-decoration-color: #00af00\">43</span>)             │             <span style=\"color: #00af00; text-decoration-color: #00af00\">0</span> │\n",
       "└─────────────────────────────────┴────────────────────────┴───────────────┘\n",
       "</pre>\n"
      ],
      "text/plain": [
       "┏━━━━━━━━━━━━━━━━━━━━━━━━━━━━━━━━━┳━━━━━━━━━━━━━━━━━━━━━━━━┳━━━━━━━━━━━━━━━┓\n",
       "┃\u001b[1m \u001b[0m\u001b[1mLayer (type)                   \u001b[0m\u001b[1m \u001b[0m┃\u001b[1m \u001b[0m\u001b[1mOutput Shape          \u001b[0m\u001b[1m \u001b[0m┃\u001b[1m \u001b[0m\u001b[1m      Param #\u001b[0m\u001b[1m \u001b[0m┃\n",
       "┡━━━━━━━━━━━━━━━━━━━━━━━━━━━━━━━━━╇━━━━━━━━━━━━━━━━━━━━━━━━╇━━━━━━━━━━━━━━━┩\n",
       "│ conv2d (\u001b[38;5;33mConv2D\u001b[0m)                 │ (\u001b[38;5;45mNone\u001b[0m, \u001b[38;5;34m32\u001b[0m, \u001b[38;5;34m32\u001b[0m, \u001b[38;5;34m32\u001b[0m)     │           \u001b[38;5;34m896\u001b[0m │\n",
       "├─────────────────────────────────┼────────────────────────┼───────────────┤\n",
       "│ activation (\u001b[38;5;33mActivation\u001b[0m)         │ (\u001b[38;5;45mNone\u001b[0m, \u001b[38;5;34m32\u001b[0m, \u001b[38;5;34m32\u001b[0m, \u001b[38;5;34m32\u001b[0m)     │             \u001b[38;5;34m0\u001b[0m │\n",
       "├─────────────────────────────────┼────────────────────────┼───────────────┤\n",
       "│ batch_normalization             │ (\u001b[38;5;45mNone\u001b[0m, \u001b[38;5;34m32\u001b[0m, \u001b[38;5;34m32\u001b[0m, \u001b[38;5;34m32\u001b[0m)     │           \u001b[38;5;34m128\u001b[0m │\n",
       "│ (\u001b[38;5;33mBatchNormalization\u001b[0m)            │                        │               │\n",
       "├─────────────────────────────────┼────────────────────────┼───────────────┤\n",
       "│ conv2d_1 (\u001b[38;5;33mConv2D\u001b[0m)               │ (\u001b[38;5;45mNone\u001b[0m, \u001b[38;5;34m32\u001b[0m, \u001b[38;5;34m32\u001b[0m, \u001b[38;5;34m32\u001b[0m)     │         \u001b[38;5;34m9,248\u001b[0m │\n",
       "├─────────────────────────────────┼────────────────────────┼───────────────┤\n",
       "│ activation_1 (\u001b[38;5;33mActivation\u001b[0m)       │ (\u001b[38;5;45mNone\u001b[0m, \u001b[38;5;34m32\u001b[0m, \u001b[38;5;34m32\u001b[0m, \u001b[38;5;34m32\u001b[0m)     │             \u001b[38;5;34m0\u001b[0m │\n",
       "├─────────────────────────────────┼────────────────────────┼───────────────┤\n",
       "│ batch_normalization_1           │ (\u001b[38;5;45mNone\u001b[0m, \u001b[38;5;34m32\u001b[0m, \u001b[38;5;34m32\u001b[0m, \u001b[38;5;34m32\u001b[0m)     │           \u001b[38;5;34m128\u001b[0m │\n",
       "│ (\u001b[38;5;33mBatchNormalization\u001b[0m)            │                        │               │\n",
       "├─────────────────────────────────┼────────────────────────┼───────────────┤\n",
       "│ max_pooling2d (\u001b[38;5;33mMaxPooling2D\u001b[0m)    │ (\u001b[38;5;45mNone\u001b[0m, \u001b[38;5;34m16\u001b[0m, \u001b[38;5;34m16\u001b[0m, \u001b[38;5;34m32\u001b[0m)     │             \u001b[38;5;34m0\u001b[0m │\n",
       "├─────────────────────────────────┼────────────────────────┼───────────────┤\n",
       "│ conv2d_2 (\u001b[38;5;33mConv2D\u001b[0m)               │ (\u001b[38;5;45mNone\u001b[0m, \u001b[38;5;34m16\u001b[0m, \u001b[38;5;34m16\u001b[0m, \u001b[38;5;34m64\u001b[0m)     │        \u001b[38;5;34m18,496\u001b[0m │\n",
       "├─────────────────────────────────┼────────────────────────┼───────────────┤\n",
       "│ activation_2 (\u001b[38;5;33mActivation\u001b[0m)       │ (\u001b[38;5;45mNone\u001b[0m, \u001b[38;5;34m16\u001b[0m, \u001b[38;5;34m16\u001b[0m, \u001b[38;5;34m64\u001b[0m)     │             \u001b[38;5;34m0\u001b[0m │\n",
       "├─────────────────────────────────┼────────────────────────┼───────────────┤\n",
       "│ batch_normalization_2           │ (\u001b[38;5;45mNone\u001b[0m, \u001b[38;5;34m16\u001b[0m, \u001b[38;5;34m16\u001b[0m, \u001b[38;5;34m64\u001b[0m)     │           \u001b[38;5;34m256\u001b[0m │\n",
       "│ (\u001b[38;5;33mBatchNormalization\u001b[0m)            │                        │               │\n",
       "├─────────────────────────────────┼────────────────────────┼───────────────┤\n",
       "│ conv2d_3 (\u001b[38;5;33mConv2D\u001b[0m)               │ (\u001b[38;5;45mNone\u001b[0m, \u001b[38;5;34m16\u001b[0m, \u001b[38;5;34m16\u001b[0m, \u001b[38;5;34m64\u001b[0m)     │        \u001b[38;5;34m36,928\u001b[0m │\n",
       "├─────────────────────────────────┼────────────────────────┼───────────────┤\n",
       "│ activation_3 (\u001b[38;5;33mActivation\u001b[0m)       │ (\u001b[38;5;45mNone\u001b[0m, \u001b[38;5;34m16\u001b[0m, \u001b[38;5;34m16\u001b[0m, \u001b[38;5;34m64\u001b[0m)     │             \u001b[38;5;34m0\u001b[0m │\n",
       "├─────────────────────────────────┼────────────────────────┼───────────────┤\n",
       "│ batch_normalization_3           │ (\u001b[38;5;45mNone\u001b[0m, \u001b[38;5;34m16\u001b[0m, \u001b[38;5;34m16\u001b[0m, \u001b[38;5;34m64\u001b[0m)     │           \u001b[38;5;34m256\u001b[0m │\n",
       "│ (\u001b[38;5;33mBatchNormalization\u001b[0m)            │                        │               │\n",
       "├─────────────────────────────────┼────────────────────────┼───────────────┤\n",
       "│ max_pooling2d_1 (\u001b[38;5;33mMaxPooling2D\u001b[0m)  │ (\u001b[38;5;45mNone\u001b[0m, \u001b[38;5;34m8\u001b[0m, \u001b[38;5;34m8\u001b[0m, \u001b[38;5;34m64\u001b[0m)       │             \u001b[38;5;34m0\u001b[0m │\n",
       "├─────────────────────────────────┼────────────────────────┼───────────────┤\n",
       "│ flatten (\u001b[38;5;33mFlatten\u001b[0m)               │ (\u001b[38;5;45mNone\u001b[0m, \u001b[38;5;34m4096\u001b[0m)           │             \u001b[38;5;34m0\u001b[0m │\n",
       "├─────────────────────────────────┼────────────────────────┼───────────────┤\n",
       "│ dense (\u001b[38;5;33mDense\u001b[0m)                   │ (\u001b[38;5;45mNone\u001b[0m, \u001b[38;5;34m512\u001b[0m)            │     \u001b[38;5;34m2,097,664\u001b[0m │\n",
       "├─────────────────────────────────┼────────────────────────┼───────────────┤\n",
       "│ activation_4 (\u001b[38;5;33mActivation\u001b[0m)       │ (\u001b[38;5;45mNone\u001b[0m, \u001b[38;5;34m512\u001b[0m)            │             \u001b[38;5;34m0\u001b[0m │\n",
       "├─────────────────────────────────┼────────────────────────┼───────────────┤\n",
       "│ batch_normalization_4           │ (\u001b[38;5;45mNone\u001b[0m, \u001b[38;5;34m512\u001b[0m)            │         \u001b[38;5;34m2,048\u001b[0m │\n",
       "│ (\u001b[38;5;33mBatchNormalization\u001b[0m)            │                        │               │\n",
       "├─────────────────────────────────┼────────────────────────┼───────────────┤\n",
       "│ dense_1 (\u001b[38;5;33mDense\u001b[0m)                 │ (\u001b[38;5;45mNone\u001b[0m, \u001b[38;5;34m43\u001b[0m)             │        \u001b[38;5;34m22,059\u001b[0m │\n",
       "├─────────────────────────────────┼────────────────────────┼───────────────┤\n",
       "│ activation_5 (\u001b[38;5;33mActivation\u001b[0m)       │ (\u001b[38;5;45mNone\u001b[0m, \u001b[38;5;34m43\u001b[0m)             │             \u001b[38;5;34m0\u001b[0m │\n",
       "└─────────────────────────────────┴────────────────────────┴───────────────┘\n"
      ]
     },
     "metadata": {},
     "output_type": "display_data"
    },
    {
     "data": {
      "text/html": [
       "<pre style=\"white-space:pre;overflow-x:auto;line-height:normal;font-family:Menlo,'DejaVu Sans Mono',consolas,'Courier New',monospace\"><span style=\"font-weight: bold\"> Total params: </span><span style=\"color: #00af00; text-decoration-color: #00af00\">2,188,107</span> (8.35 MB)\n",
       "</pre>\n"
      ],
      "text/plain": [
       "\u001b[1m Total params: \u001b[0m\u001b[38;5;34m2,188,107\u001b[0m (8.35 MB)\n"
      ]
     },
     "metadata": {},
     "output_type": "display_data"
    },
    {
     "data": {
      "text/html": [
       "<pre style=\"white-space:pre;overflow-x:auto;line-height:normal;font-family:Menlo,'DejaVu Sans Mono',consolas,'Courier New',monospace\"><span style=\"font-weight: bold\"> Trainable params: </span><span style=\"color: #00af00; text-decoration-color: #00af00\">2,186,699</span> (8.34 MB)\n",
       "</pre>\n"
      ],
      "text/plain": [
       "\u001b[1m Trainable params: \u001b[0m\u001b[38;5;34m2,186,699\u001b[0m (8.34 MB)\n"
      ]
     },
     "metadata": {},
     "output_type": "display_data"
    },
    {
     "data": {
      "text/html": [
       "<pre style=\"white-space:pre;overflow-x:auto;line-height:normal;font-family:Menlo,'DejaVu Sans Mono',consolas,'Courier New',monospace\"><span style=\"font-weight: bold\"> Non-trainable params: </span><span style=\"color: #00af00; text-decoration-color: #00af00\">1,408</span> (5.50 KB)\n",
       "</pre>\n"
      ],
      "text/plain": [
       "\u001b[1m Non-trainable params: \u001b[0m\u001b[38;5;34m1,408\u001b[0m (5.50 KB)\n"
      ]
     },
     "metadata": {},
     "output_type": "display_data"
    }
   ],
   "source": [
    "model.summary()"
   ]
  },
  {
   "cell_type": "code",
   "execution_count": 35,
   "metadata": {},
   "outputs": [],
   "source": [
    "aug=ImageDataGenerator(rotation_range=0.18,zoom_range=0.18,width_shift_range=0.2,height_shift_range=0.2,horizontal_flip=True)"
   ]
  },
  {
   "cell_type": "code",
   "execution_count": 36,
   "metadata": {},
   "outputs": [],
   "source": [
    "lr=0.01\n",
    "epochs=10\n",
    "batch_size=64"
   ]
  },
  {
   "cell_type": "code",
   "execution_count": 37,
   "metadata": {},
   "outputs": [],
   "source": [
    "opt=SGD(learning_rate=lr,momentum=0.9)"
   ]
  },
  {
   "cell_type": "code",
   "execution_count": 38,
   "metadata": {},
   "outputs": [],
   "source": [
    "model.compile(optimizer=opt, loss='categorical_crossentropy', metrics=['accuracy'])\n"
   ]
  },
  {
   "cell_type": "code",
   "execution_count": 39,
   "metadata": {},
   "outputs": [
    {
     "name": "stdout",
     "output_type": "stream",
     "text": [
      "start training\n",
      "Epoch 1/10\n"
     ]
    },
    {
     "name": "stderr",
     "output_type": "stream",
     "text": [
      "e:\\machine_learning\\.venv\\Lib\\site-packages\\keras\\src\\trainers\\data_adapters\\py_dataset_adapter.py:121: UserWarning: Your `PyDataset` class should call `super().__init__(**kwargs)` in its constructor. `**kwargs` can include `workers`, `use_multiprocessing`, `max_queue_size`. Do not pass these arguments to `fit()`, as they will be ignored.\n",
      "  self._warn_if_super_not_called()\n"
     ]
    },
    {
     "name": "stdout",
     "output_type": "stream",
     "text": [
      "\u001b[1m543/543\u001b[0m \u001b[32m━━━━━━━━━━━━━━━━━━━━\u001b[0m\u001b[37m\u001b[0m \u001b[1m98s\u001b[0m 175ms/step - accuracy: 0.3111 - loss: 2.5828 - val_accuracy: 0.5626 - val_loss: 1.4146\n",
      "Epoch 2/10\n",
      "\u001b[1m  1/543\u001b[0m \u001b[37m━━━━━━━━━━━━━━━━━━━━\u001b[0m \u001b[1m1:45\u001b[0m 195ms/step - accuracy: 0.7031 - loss: 1.0987"
     ]
    },
    {
     "name": "stderr",
     "output_type": "stream",
     "text": [
      "C:\\Users\\dungq\\AppData\\Local\\Programs\\Python\\Python312\\Lib\\contextlib.py:158: UserWarning: Your input ran out of data; interrupting training. Make sure that your dataset or generator can generate at least `steps_per_epoch * epochs` batches. You may need to use the `.repeat()` function when building your dataset.\n",
      "  self.gen.throw(value)\n"
     ]
    },
    {
     "name": "stdout",
     "output_type": "stream",
     "text": [
      "\u001b[1m543/543\u001b[0m \u001b[32m━━━━━━━━━━━━━━━━━━━━\u001b[0m\u001b[37m\u001b[0m \u001b[1m4s\u001b[0m 6ms/step - accuracy: 0.7031 - loss: 1.0987 - val_accuracy: 0.5651 - val_loss: 1.4418\n",
      "Epoch 3/10\n",
      "\u001b[1m543/543\u001b[0m \u001b[32m━━━━━━━━━━━━━━━━━━━━\u001b[0m\u001b[37m\u001b[0m \u001b[1m102s\u001b[0m 188ms/step - accuracy: 0.7378 - loss: 0.8131 - val_accuracy: 0.7122 - val_loss: 0.9328\n",
      "Epoch 4/10\n",
      "\u001b[1m543/543\u001b[0m \u001b[32m━━━━━━━━━━━━━━━━━━━━\u001b[0m\u001b[37m\u001b[0m \u001b[1m2s\u001b[0m 3ms/step - accuracy: 0.7656 - loss: 0.6798 - val_accuracy: 0.7120 - val_loss: 0.9550\n",
      "Epoch 5/10\n",
      "\u001b[1m543/543\u001b[0m \u001b[32m━━━━━━━━━━━━━━━━━━━━\u001b[0m\u001b[37m\u001b[0m \u001b[1m113s\u001b[0m 207ms/step - accuracy: 0.8672 - loss: 0.3995 - val_accuracy: 0.7444 - val_loss: 0.9245\n",
      "Epoch 6/10\n",
      "\u001b[1m543/543\u001b[0m \u001b[32m━━━━━━━━━━━━━━━━━━━━\u001b[0m\u001b[37m\u001b[0m \u001b[1m3s\u001b[0m 5ms/step - accuracy: 0.9531 - loss: 0.1643 - val_accuracy: 0.7488 - val_loss: 0.9216\n",
      "Epoch 7/10\n",
      "\u001b[1m543/543\u001b[0m \u001b[32m━━━━━━━━━━━━━━━━━━━━\u001b[0m\u001b[37m\u001b[0m \u001b[1m107s\u001b[0m 196ms/step - accuracy: 0.9231 - loss: 0.2399 - val_accuracy: 0.8315 - val_loss: 0.6100\n",
      "Epoch 8/10\n",
      "\u001b[1m543/543\u001b[0m \u001b[32m━━━━━━━━━━━━━━━━━━━━\u001b[0m\u001b[37m\u001b[0m \u001b[1m2s\u001b[0m 3ms/step - accuracy: 0.9219 - loss: 0.1797 - val_accuracy: 0.8290 - val_loss: 0.6223\n",
      "Epoch 9/10\n",
      "\u001b[1m543/543\u001b[0m \u001b[32m━━━━━━━━━━━━━━━━━━━━\u001b[0m\u001b[37m\u001b[0m \u001b[1m88s\u001b[0m 161ms/step - accuracy: 0.9436 - loss: 0.1721 - val_accuracy: 0.8113 - val_loss: 0.6671\n",
      "Epoch 10/10\n",
      "\u001b[1m543/543\u001b[0m \u001b[32m━━━━━━━━━━━━━━━━━━━━\u001b[0m\u001b[37m\u001b[0m \u001b[1m2s\u001b[0m 3ms/step - accuracy: 0.9688 - loss: 0.1157 - val_accuracy: 0.8163 - val_loss: 0.6500\n"
     ]
    }
   ],
   "source": [
    "print(\"start training\")\n",
    "H=model.fit(aug.flow(trainX,trainY,batch_size=batch_size),validation_data=(valX,valY),steps_per_epoch=trainX.shape[0]//batch_size,epochs=epochs,verbose=1)"
   ]
  },
  {
   "cell_type": "code",
   "execution_count": 40,
   "metadata": {},
   "outputs": [
    {
     "name": "stderr",
     "output_type": "stream",
     "text": [
      "WARNING:absl:You are saving your model as an HDF5 file via `model.save()` or `keras.saving.save_model(model)`. This file format is considered legacy. We recommend using instead the native Keras format, e.g. `model.save('my_model.keras')` or `keras.saving.save_model(model, 'my_model.keras')`. \n"
     ]
    }
   ],
   "source": [
    "model.save(\"abcxyz.h5\")"
   ]
  },
  {
   "cell_type": "code",
   "execution_count": 42,
   "metadata": {},
   "outputs": [
    {
     "name": "stderr",
     "output_type": "stream",
     "text": [
      "WARNING:absl:Compiled the loaded model, but the compiled metrics have yet to be built. `model.compile_metrics` will be empty until you train or evaluate the model.\n"
     ]
    }
   ],
   "source": [
    "res_model=tf.keras.models.load_model(\"abcxyz.h5\")"
   ]
  },
  {
   "cell_type": "code",
   "execution_count": 55,
   "metadata": {},
   "outputs": [
    {
     "name": "stdout",
     "output_type": "stream",
     "text": [
      "\u001b[1m1/1\u001b[0m \u001b[32m━━━━━━━━━━━━━━━━━━━━\u001b[0m\u001b[37m\u001b[0m \u001b[1m0s\u001b[0m 26ms/step\n"
     ]
    },
    {
     "data": {
      "text/plain": [
       "array([[9.1084529e-11, 1.1528430e-13, 4.6472698e-07, 3.5148667e-10,\n",
       "        6.3568081e-11, 1.1701450e-09, 2.8309569e-10, 6.6396284e-11,\n",
       "        1.2691753e-09, 6.4574994e-09, 2.3569463e-07, 8.0161975e-05,\n",
       "        5.2765557e-12, 9.3234082e-14, 1.0929518e-10, 6.3982123e-12,\n",
       "        4.6455973e-08, 1.9234723e-07, 1.1502569e-07, 1.4241526e-05,\n",
       "        4.6994746e-06, 9.9485481e-01, 1.2898014e-09, 4.8509051e-04,\n",
       "        3.7890160e-08, 3.4807783e-08, 5.9583556e-08, 2.5363076e-03,\n",
       "        1.8598612e-03, 1.1832163e-08, 3.8903825e-05, 1.2432114e-04,\n",
       "        9.2876581e-11, 6.9917503e-09, 1.9628148e-09, 3.7868805e-10,\n",
       "        5.9224103e-10, 2.6946410e-08, 2.2648280e-10, 8.0060325e-08,\n",
       "        3.8639371e-07, 5.5538298e-08, 2.0642752e-09]], dtype=float32)"
      ]
     },
     "execution_count": 55,
     "metadata": {},
     "output_type": "execute_result"
    }
   ],
   "source": [
    "res=res_model.predict(testX[80:81])\n",
    "res"
   ]
  },
  {
   "cell_type": "code",
   "execution_count": 44,
   "metadata": {},
   "outputs": [],
   "source": [
    "import numpy as np"
   ]
  },
  {
   "cell_type": "code",
   "execution_count": 56,
   "metadata": {},
   "outputs": [],
   "source": [
    "final=np.argmax(res)"
   ]
  },
  {
   "cell_type": "code",
   "execution_count": 57,
   "metadata": {},
   "outputs": [],
   "source": [
    "final=classNames[final]"
   ]
  },
  {
   "cell_type": "code",
   "execution_count": 58,
   "metadata": {},
   "outputs": [
    {
     "data": {
      "text/plain": [
       "'Double curve'"
      ]
     },
     "execution_count": 58,
     "metadata": {},
     "output_type": "execute_result"
    }
   ],
   "source": [
    "final"
   ]
  },
  {
   "cell_type": "code",
   "execution_count": 59,
   "metadata": {},
   "outputs": [
    {
     "data": {
      "text/plain": [
       "<matplotlib.image.AxesImage at 0x1f0c72216d0>"
      ]
     },
     "execution_count": 59,
     "metadata": {},
     "output_type": "execute_result"
    },
    {
     "data": {
      "image/png": "[encoded data removed]",
      "text/plain": [
       "<Figure size 640x480 with 1 Axes>"
      ]
     },
     "metadata": {},
     "output_type": "display_data"
    }
   ],
   "source": [
    "plt.imshow(test[\"features\"][80])"
   ]
  }
 ],
 "metadata": {
  "kernelspec": {
   "display_name": ".venv",
   "language": "python",
   "name": "python3"
  },
  "language_info": {
   "codemirror_mode": {
    "name": "ipython",
    "version": 3
   },
   "file_extension": ".py",
   "mimetype": "text/x-python",
   "name": "python",
   "nbconvert_exporter": "python",
   "pygments_lexer": "ipython3",
   "version": "3.12.4"
  }
 },
 "nbformat": 4,
 "nbformat_minor": 2
}
